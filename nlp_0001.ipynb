{
  "cells": [
    {
      "cell_type": "code",
      "execution_count": null,
      "metadata": {
        "colab": {
          "base_uri": "https://localhost:8080/"
        },
        "id": "gZ64lh9PvygM",
        "outputId": "f8f3cb45-8f2b-4920-881e-260dcb9ddb6f"
      },
      "outputs": [
        {
          "name": "stdout",
          "output_type": "stream",
          "text": [
            "2.8.2\n",
            "2.8.0\n",
            "3.6.0\n",
            "1.0.2\n",
            "3.7\n"
          ]
        }
      ],
      "source": [
        "import tensorflow as tf\n",
        "print(tf.__version__)\n",
        "\n",
        "import keras \n",
        "print(keras.__version__)\n",
        "\n",
        "import gensim\n",
        "print(gensim.__version__)\n",
        "\n",
        "import sklearn\n",
        "print(sklearn.__version__)\n",
        "\n",
        "import nltk\n",
        "print(nltk.__version__)\n",
        "# nltk.download()"
      ]
    },
    {
      "cell_type": "code",
      "execution_count": null,
      "metadata": {
        "colab": {
          "base_uri": "https://localhost:8080/"
        },
        "id": "IXI9oTPWv0oJ",
        "outputId": "ea0c9f0f-8a94-46a3-eebf-fc12f8cc9577"
      },
      "outputs": [
        {
          "name": "stdout",
          "output_type": "stream",
          "text": [
            "Looking in indexes: https://pypi.org/simple, https://us-python.pkg.dev/colab-wheels/public/simple/\n",
            "Collecting konlpy\n",
            "  Downloading konlpy-0.6.0-py2.py3-none-any.whl (19.4 MB)\n",
            "\u001b[K     |████████████████████████████████| 19.4 MB 1.2 MB/s \n",
            "\u001b[?25hCollecting JPype1>=0.7.0\n",
            "  Downloading JPype1-1.4.0-cp37-cp37m-manylinux_2_5_x86_64.manylinux1_x86_64.whl (453 kB)\n",
            "\u001b[K     |████████████████████████████████| 453 kB 65.1 MB/s \n",
            "\u001b[?25hRequirement already satisfied: numpy>=1.6 in /usr/local/lib/python3.7/dist-packages (from konlpy) (1.21.6)\n",
            "Requirement already satisfied: lxml>=4.1.0 in /usr/local/lib/python3.7/dist-packages (from konlpy) (4.9.1)\n",
            "Requirement already satisfied: typing-extensions in /usr/local/lib/python3.7/dist-packages (from JPype1>=0.7.0->konlpy) (4.1.1)\n",
            "Installing collected packages: JPype1, konlpy\n",
            "Successfully installed JPype1-1.4.0 konlpy-0.6.0\n"
          ]
        }
      ],
      "source": [
        "pip install konlpy"
      ]
    },
    {
      "cell_type": "code",
      "execution_count": null,
      "metadata": {
        "colab": {
          "base_uri": "https://localhost:8080/"
        },
        "id": "prwrOdA8bfmP",
        "outputId": "68f4a3a3-1059-413c-e775-fa0a7ef85c02"
      },
      "outputs": [
        {
          "name": "stdout",
          "output_type": "stream",
          "text": [
            "0.6.0\n",
            "1.3.5\n"
          ]
        }
      ],
      "source": [
        "import konlpy\n",
        "print(konlpy.__version__)\n",
        "\n",
        "import pandas as pd\n",
        "print(pd.__version__)"
      ]
    },
    {
      "cell_type": "code",
      "execution_count": null,
      "metadata": {
        "colab": {
          "base_uri": "https://localhost:8080/"
        },
        "id": "tUhn21docQjE",
        "outputId": "8f9d2807-174a-45cc-eccd-2874f557ed42"
      },
      "outputs": [
        {
          "name": "stdout",
          "output_type": "stream",
          "text": [
            "피자    1700\n",
            "치키    1800\n",
            "콜라     100\n",
            "맥주     500\n",
            "dtype: int64\n"
          ]
        }
      ],
      "source": [
        "sr = pd.Series([1700, 1800, 100, 500], index=['피자', '치키', '콜라', '맥주'])\n",
        "print(sr)"
      ]
    },
    {
      "cell_type": "code",
      "execution_count": null,
      "metadata": {
        "colab": {
          "base_uri": "https://localhost:8080/"
        },
        "id": "txFBfYJqcSoC",
        "outputId": "cc77764d-79ca-4efe-8391-a812876f1545"
      },
      "outputs": [
        {
          "name": "stdout",
          "output_type": "stream",
          "text": [
            "시리즈 값 : [1700 1800  100  500]\n",
            "시리즈 인덱스 : Index(['피자', '치키', '콜라', '맥주'], dtype='object')\n"
          ]
        }
      ],
      "source": [
        "print('시리즈 값 : {}'.format(sr.values))\n",
        "print('시리즈 인덱스 : {}'.format(sr.index))"
      ]
    },
    {
      "cell_type": "code",
      "execution_count": null,
      "metadata": {
        "colab": {
          "base_uri": "https://localhost:8080/"
        },
        "id": "Pdkqo-8lc5uZ",
        "outputId": "d5268cf5-9869-4793-f0e2-389a5c6b3415"
      },
      "outputs": [
        {
          "name": "stdout",
          "output_type": "stream",
          "text": [
            "       A  B  C\n",
            "one    1  2  3\n",
            "two    4  5  6\n",
            "three  7  8  9\n"
          ]
        }
      ],
      "source": [
        "values = [[1,2,3],[4,5,6],[7,8,9]]\n",
        "index = ['one','two','three']\n",
        "columns = ['A','B','C']\n",
        "\n",
        "df = pd.DataFrame(values, index=index, columns=columns)\n",
        "print(df)"
      ]
    },
    {
      "cell_type": "code",
      "execution_count": null,
      "metadata": {
        "colab": {
          "base_uri": "https://localhost:8080/"
        },
        "id": "QdwhCttPd047",
        "outputId": "ef5b298f-6a08-4702-b2cb-43aae20d40d3"
      },
      "outputs": [
        {
          "name": "stdout",
          "output_type": "stream",
          "text": [
            "      0         1      2\n",
            "0  1000     Steve  90.72\n",
            "1  1001     James  78.90\n",
            "2  1002    Doyeon  98.43\n",
            "3  1003      Jane  64.19\n",
            "4  1004  Pilwoong  81.30\n",
            "5  1005      Tony  99.13\n"
          ]
        }
      ],
      "source": [
        "data = [['1000','Steve',90.72],\n",
        "        ['1001','James',78.90],\n",
        "        ['1002','Doyeon',98.43],\n",
        "        ['1003','Jane',64.19],\n",
        "        ['1004','Pilwoong',81.30],\n",
        "        ['1005','Tony',99.13]]\n",
        "\n",
        "df = pd.DataFrame(data)\n",
        "print(df)"
      ]
    },
    {
      "cell_type": "code",
      "execution_count": null,
      "metadata": {
        "colab": {
          "base_uri": "https://localhost:8080/"
        },
        "id": "FtVvU6mmeh7C",
        "outputId": "3c00b0b3-46a4-4a45-b78d-62bee82447fa"
      },
      "outputs": [
        {
          "name": "stdout",
          "output_type": "stream",
          "text": [
            "     학번        이름     점수\n",
            "0  1000     Steve  90.72\n",
            "1  1001     James  78.90\n",
            "2  1002    Doyeon  98.43\n",
            "3  1003      Jane  64.19\n",
            "4  1004  Pilwoong  81.30\n",
            "5  1005      Tony  99.13\n"
          ]
        }
      ],
      "source": [
        "df = pd.DataFrame(data, columns=['학번','이름','점수'])\n",
        "print(df)"
      ]
    },
    {
      "cell_type": "code",
      "execution_count": null,
      "metadata": {
        "colab": {
          "base_uri": "https://localhost:8080/"
        },
        "id": "VKef8afle8VQ",
        "outputId": "c76a07e1-f220-40cd-b338-86b18394c825"
      },
      "outputs": [
        {
          "name": "stdout",
          "output_type": "stream",
          "text": [
            "     학번        이름     점수\n",
            "0  1000     Steve  90.72\n",
            "1  1001     James  78.90\n",
            "2  1002    Doyeon  98.43\n",
            "3  1003      Jane  64.19\n",
            "4  1004  Pilwoong  81.30\n",
            "5  1005      Tony  99.13\n"
          ]
        }
      ],
      "source": [
        "data = {\n",
        "    '학번' : ['1000','1001','1002','1003'],\n",
        "    '이름' : ['Steve','James','Doyeon','Jene'],\n",
        "    '점수' : [90.72, 78.09, 98.43, 64.19] \n",
        "}\n",
        "df = pd.DataFrame(df)\n",
        "print(df)"
      ]
    },
    {
      "cell_type": "code",
      "execution_count": null,
      "metadata": {
        "colab": {
          "base_uri": "https://localhost:8080/"
        },
        "id": "sibV_EJOfy-j",
        "outputId": "378b5a78-3870-4f1a-9c3e-70e90129bf53"
      },
      "outputs": [
        {
          "name": "stdout",
          "output_type": "stream",
          "text": [
            "     학번      이름     점수\n",
            "0  1000   Steve  90.72\n",
            "1  1001   James  78.90\n",
            "2  1002  Doyeon  98.43\n"
          ]
        }
      ],
      "source": [
        "print(df.head(3))"
      ]
    },
    {
      "cell_type": "code",
      "execution_count": null,
      "metadata": {
        "colab": {
          "base_uri": "https://localhost:8080/"
        },
        "id": "FD-hUsLYf6m2",
        "outputId": "ec806106-672f-4518-ebbb-faf994deb707"
      },
      "outputs": [
        {
          "name": "stdout",
          "output_type": "stream",
          "text": [
            "     학번        이름     점수\n",
            "3  1003      Jane  64.19\n",
            "4  1004  Pilwoong  81.30\n",
            "5  1005      Tony  99.13\n"
          ]
        }
      ],
      "source": [
        "print(df.tail(3))"
      ]
    },
    {
      "cell_type": "code",
      "execution_count": null,
      "metadata": {
        "colab": {
          "base_uri": "https://localhost:8080/"
        },
        "id": "Cu2rKgeqf8-G",
        "outputId": "5b80aaa9-45e0-4596-f45e-4d224161a1c3"
      },
      "outputs": [
        {
          "name": "stdout",
          "output_type": "stream",
          "text": [
            "0    1000\n",
            "1    1001\n",
            "2    1002\n",
            "3    1003\n",
            "4    1004\n",
            "5    1005\n",
            "Name: 학번, dtype: object\n"
          ]
        }
      ],
      "source": [
        "print(df['학번'])"
      ]
    },
    {
      "cell_type": "code",
      "execution_count": null,
      "metadata": {
        "colab": {
          "base_uri": "https://localhost:8080/",
          "height": 171
        },
        "id": "RxOZcOQ_gJTK",
        "outputId": "875c332a-9daa-4e94-e854-de689dd0b9a5"
      },
      "outputs": [
        {
          "ename": "NameError",
          "evalue": "ignored",
          "output_type": "error",
          "traceback": [
            "\u001b[0;31m---------------------------------------------------------------------------\u001b[0m",
            "\u001b[0;31mNameError\u001b[0m                                 Traceback (most recent call last)",
            "\u001b[0;32m<ipython-input-16-e64f7af6bbc8>\u001b[0m in \u001b[0;36m<module>\u001b[0;34m\u001b[0m\n\u001b[0;32m----> 1\u001b[0;31m \u001b[0mRangeIndex\u001b[0m\u001b[0;34m(\u001b[0m\u001b[0mstart\u001b[0m\u001b[0;34m=\u001b[0m\u001b[0;36m0\u001b[0m\u001b[0;34m,\u001b[0m \u001b[0mstop\u001b[0m\u001b[0;34m=\u001b[0m\u001b[0;36m6\u001b[0m\u001b[0;34m,\u001b[0m \u001b[0mstep\u001b[0m\u001b[0;34m=\u001b[0m\u001b[0;36m1\u001b[0m\u001b[0;34m)\u001b[0m\u001b[0;34m\u001b[0m\u001b[0;34m\u001b[0m\u001b[0m\n\u001b[0m",
            "\u001b[0;31mNameError\u001b[0m: name 'RangeIndex' is not defined"
          ]
        }
      ],
      "source": [
        "RangeIndex(start=0, stop=6, step=1)"
      ]
    },
    {
      "cell_type": "code",
      "execution_count": null,
      "metadata": {
        "id": "T15iwHXQIJub"
      },
      "outputs": [],
      "source": []
    }
  ],
  "metadata": {
    "accelerator": "GPU",
    "colab": {
      "collapsed_sections": [],
      "name": "nlp_0001.ipynb",
      "provenance": []
    },
    "gpuClass": "standard",
    "kernelspec": {
      "display_name": "Python 3",
      "name": "python3"
    },
    "language_info": {
      "name": "python"
    }
  },
  "nbformat": 4,
  "nbformat_minor": 0
}
